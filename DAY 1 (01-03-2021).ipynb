{
 "cells": [
  {
   "cell_type": "markdown",
   "metadata": {},
   "source": [
    " # shortcut keys::: \n",
    "## adding cell--->b(below)\n",
    "## adding cell--->a(above)\n",
    "## deleting cell--->dd\n",
    "## executing cell--->shift+enter\n",
    "## cell convert code to markdown--->m\n",
    "## cell convert markdown to code--->y\n",
    "## for bold lettters ---->**word** or __word __(double stars or double underscores(starting   ##word and endeing word)\n",
    "## for Italic letters ---->*word* or _word_ (single star or single underscore)\n",
    "## both bold and italic --->***word*** or ___word___(thireble stars or underscores)\n",
    "   \n",
    "# applying images::\n",
    "  **offline images**\n",
    "   <img src=\"sample.jpg\" height=100px width=100px >\n",
    "   **online images**\n",
    "   <img src=\"https://th.bing.com/th/id/OIP.lU6O4rL3M8huLjJ9Pt16kAAAAA?pid=ImgDet&w=300&h=225&rs=1\" height=100px width=100px>\n",
    "# LINKS::\n",
    "  This is my [Email](https://www.gmail.com)\n",
    "# Bullet Points::\n",
    "+ c\n",
    "   + arrays\n",
    "   * pointers\n",
    "   - files\n",
    "- c#\n",
    "* python\n",
    "+ r programming\n",
    "# backtick (background watermark)(tilde symbol)\n",
    "hello `hello`\n",
    "# ordered list\n",
    " 1. latex\n",
    " 5. html\n",
    " 7. css\n",
    " 14. advanced script\n"
   ]
  },
  {
   "cell_type": "markdown",
   "metadata": {},
   "source": [
    "# Introduction to Python Programming\n",
    "\n",
    "## In python we have 5 different key points\n",
    "+ high leval language\n",
    "\n",
    "+ object oriented programming\n",
    "\n",
    "* intrepreted\n",
    "\n",
    "+ multipurpose programming & scripting language\n",
    "\n",
    "+ dynammic programming ( for ex:automatically the values canbe taken(typecast))\n",
    "\n",
    "# Features of Python\n",
    "\n",
    "+ open source (we can use without internet)\n",
    "+ cross platform (we can use in any operating system)\n",
    "+ rapid (powerful or fastly working..)\n",
    "etc..\n",
    "\n",
    "# name of python\n",
    "##### monty python flying circus (tv comedy show) form this `guido rossum` named to the python because that show he likes\n",
    "# History of python\n",
    "+ python load as foundation in the year 1980's\n",
    "+ In 1980 guido van russum python was at CWI netherland\n",
    "+ In 1991 he published 0.9.0 version without any features\n",
    "+ In 1994  again 1.0 version features of anonymous functions lamda,map,filter,reduce\n",
    "+ 2000 2.0 ds,list,tuple,dictioary\n",
    "+ 2008 3.0 (py3k) with garbage collector,fast working,day by day updating"
   ]
  },
  {
   "cell_type": "code",
   "execution_count": null,
   "metadata": {},
   "outputs": [],
   "source": []
  }
 ],
 "metadata": {
  "kernelspec": {
   "display_name": "Python 3",
   "language": "python",
   "name": "python3"
  },
  "language_info": {
   "codemirror_mode": {
    "name": "ipython",
    "version": 3
   },
   "file_extension": ".py",
   "mimetype": "text/x-python",
   "name": "python",
   "nbconvert_exporter": "python",
   "pygments_lexer": "ipython3",
   "version": "3.7.4"
  }
 },
 "nbformat": 4,
 "nbformat_minor": 2
}

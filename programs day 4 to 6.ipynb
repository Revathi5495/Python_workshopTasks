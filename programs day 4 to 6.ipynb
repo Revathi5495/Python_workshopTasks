{
 "cells": [
  {
   "cell_type": "code",
   "execution_count": 2,
   "metadata": {},
   "outputs": [
    {
     "name": "stdout",
     "output_type": "stream",
     "text": [
      "enter the marks:94\n",
      "your grade is = 'A'\n"
     ]
    }
   ],
   "source": [
    "#implement the grading system by using conditional statements\n",
    "a=int(input(\"enter the marks:\"))\n",
    "if(a>=90):\n",
    "    print(\"your grade is = 'A'\")\n",
    "elif(a>=80 and a<90):\n",
    "    print(\"your grade is = 'B'\")\n",
    "elif(a>=70 and a<80):\n",
    "    print(\"your grade is = 'C'\")\n",
    "elif(a>=60 and a<70):\n",
    "    print(\"your grade is = 'D'\")\n",
    "elif(a>=50 and a<60):\n",
    "    print(\"your grade is = 'e'\")\n",
    "else:\n",
    "    print(\"Fail\");"
   ]
  },
  {
   "cell_type": "code",
   "execution_count": 36,
   "metadata": {
    "scrolled": true
   },
   "outputs": [
    {
     "name": "stdout",
     "output_type": "stream",
     "text": [
      "2\n",
      "3\n",
      "5\n",
      "7\n"
     ]
    }
   ],
   "source": [
    "# print all prime number in the given range \n",
    "\n",
    "for i in range(1,10):\n",
    "    c=0\n",
    "    for j in range(2,i):\n",
    "        if(i%j==0):\n",
    "            c+=1\n",
    "            break\n",
    "    if(c==0 and i!=1):\n",
    "            print(i)\n",
    "         "
   ]
  },
  {
   "cell_type": "code",
   "execution_count": 40,
   "metadata": {},
   "outputs": [
    {
     "name": "stdout",
     "output_type": "stream",
     "text": [
      "enter any number:202\n",
      "palindrome\n"
     ]
    }
   ],
   "source": [
    "# python progrm for checking given number is palindrome or not\n",
    "a=int(input(\"enter any number:\"))\n",
    "rem=0\n",
    "rev=0\n",
    "n=a\n",
    "while a>0:\n",
    "    rem=a%10\n",
    "    rev=rev*10+rem\n",
    "    a=a//10\n",
    "if(rev==n):\n",
    "    print(\"palindrome\")\n",
    "else:\n",
    "    print(\"not palindrome\")"
   ]
  },
  {
   "cell_type": "code",
   "execution_count": 43,
   "metadata": {},
   "outputs": [
    {
     "name": "stdout",
     "output_type": "stream",
     "text": [
      "6\n",
      "28\n",
      "496\n"
     ]
    }
   ],
   "source": [
    "# print all the perfect numbers in the 1 t0 1000\n",
    "for i in range(1,1000):\n",
    "    s=0\n",
    "    for j in range(1,i):\n",
    "        if(i%j==0):\n",
    "            s=s+j\n",
    "    if(s==i):\n",
    "        print(i)\n"
   ]
  },
  {
   "cell_type": "code",
   "execution_count": 49,
   "metadata": {},
   "outputs": [
    {
     "name": "stdout",
     "output_type": "stream",
     "text": [
      "enter any number:153\n",
      "armstrong\n"
     ]
    }
   ],
   "source": [
    "# check the given number is armstrong or not\n",
    "a=int(input(\"enter any number:\"))\n",
    "rem=0\n",
    "s=0\n",
    "n=a\n",
    "while a>0:\n",
    "    rem=a%10\n",
    "    s=s+rem*rem*rem\n",
    "    a=a//10\n",
    "if(s==n):\n",
    "    print(\"armstrong\")\n",
    "else:\n",
    "    print(\"not armstrong\")"
   ]
  },
  {
   "cell_type": "code",
   "execution_count": null,
   "metadata": {},
   "outputs": [],
   "source": []
  }
 ],
 "metadata": {
  "kernelspec": {
   "display_name": "Python 3",
   "language": "python",
   "name": "python3"
  },
  "language_info": {
   "codemirror_mode": {
    "name": "ipython",
    "version": 3
   },
   "file_extension": ".py",
   "mimetype": "text/x-python",
   "name": "python",
   "nbconvert_exporter": "python",
   "pygments_lexer": "ipython3",
   "version": "3.7.4"
  }
 },
 "nbformat": 4,
 "nbformat_minor": 2
}

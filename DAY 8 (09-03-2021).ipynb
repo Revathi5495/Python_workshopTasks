{
 "cells": [
  {
   "cell_type": "markdown",
   "metadata": {},
   "source": [
    "# File Handling\n",
    "+ collection of data or information\n",
    "+ steps in creating a file\n",
    "     + open a file\n",
    "       * open(filename,mode)\n",
    "         + modes\n",
    "            + create-x\n",
    "            + read-r\n",
    "            + write- w\n",
    "            + append- a\n",
    "     + opearations/method\n",
    "         + read()\n",
    "         + write()\n",
    "         + readline()\n",
    "         + readlines()\n",
    "     + close the file\n",
    "         + close()"
   ]
  },
  {
   "cell_type": "code",
   "execution_count": 1,
   "metadata": {},
   "outputs": [
    {
     "name": "stdout",
     "output_type": "stream",
     "text": [
      "hii hello\n",
      "always\n",
      "always\n"
     ]
    }
   ],
   "source": [
    "# read()\n",
    "f=open('F1.txt','r')\n",
    "print(f.read())\n",
    "f.close()\n"
   ]
  },
  {
   "cell_type": "code",
   "execution_count": 2,
   "metadata": {},
   "outputs": [
    {
     "name": "stdout",
     "output_type": "stream",
     "text": [
      "26\n"
     ]
    }
   ],
   "source": [
    "# write()\n",
    "# statically write data to file\n",
    "f=open('F1.txt','w')\n",
    "print(f.write(\"\\n\"+\"my clg name is rgukt sklm\"))\n",
    "f.close()"
   ]
  },
  {
   "cell_type": "code",
   "execution_count": 3,
   "metadata": {},
   "outputs": [
    {
     "name": "stdout",
     "output_type": "stream",
     "text": [
      "\n",
      "my clg name is rgukt sklm\n"
     ]
    }
   ],
   "source": [
    "f=open('F1.txt','r')\n",
    "print(f.read())\n",
    "f.close()"
   ]
  },
  {
   "cell_type": "code",
   "execution_count": 4,
   "metadata": {},
   "outputs": [
    {
     "name": "stdout",
     "output_type": "stream",
     "text": [
      "super\n",
      "5\n"
     ]
    }
   ],
   "source": [
    "# dynamically write data to file\n",
    "f=open('F1.txt','w') # data is overrided\n",
    "f1=input()\n",
    "print(f.write(f1))\n",
    "f.close()"
   ]
  },
  {
   "cell_type": "code",
   "execution_count": 5,
   "metadata": {},
   "outputs": [
    {
     "name": "stdout",
     "output_type": "stream",
     "text": [
      "super\n"
     ]
    }
   ],
   "source": [
    "f=open('F1.txt','r')\n",
    "print(f.read())\n",
    "f.close()"
   ]
  },
  {
   "cell_type": "code",
   "execution_count": 1,
   "metadata": {},
   "outputs": [
    {
     "name": "stdout",
     "output_type": "stream",
     "text": [
      "read it\n",
      "8\n"
     ]
    }
   ],
   "source": [
    "# append in write\n",
    "f=open('F1.txt','a') # data is added already existed one\n",
    "f1=input()\n",
    "print(f.write(\"\\n\"+f1))\n",
    "f.close()"
   ]
  },
  {
   "cell_type": "code",
   "execution_count": 2,
   "metadata": {},
   "outputs": [
    {
     "name": "stdout",
     "output_type": "stream",
     "text": [
      "super\n",
      "\n"
     ]
    }
   ],
   "source": [
    "# readline() : reads 1st line\n",
    "f=open('F1.txt','r')\n",
    "print(f.readline())\n",
    "f.close()"
   ]
  },
  {
   "cell_type": "code",
   "execution_count": 3,
   "metadata": {},
   "outputs": [
    {
     "name": "stdout",
     "output_type": "stream",
     "text": [
      "['super\\n', 'read it']\n"
     ]
    }
   ],
   "source": [
    "# readlines()\n",
    "f=open('F1.txt','r')\n",
    "print(f.readlines())\n",
    "f.close()"
   ]
  },
  {
   "cell_type": "code",
   "execution_count": 8,
   "metadata": {},
   "outputs": [
    {
     "name": "stdout",
     "output_type": "stream",
     "text": [
      "super\n",
      "read it\n"
     ]
    }
   ],
   "source": [
    "# using with keyword\n",
    "with open('F1.txt','r') as f:\n",
    "    print(f.read())"
   ]
  },
  {
   "cell_type": "code",
   "execution_count": 9,
   "metadata": {},
   "outputs": [
    {
     "name": "stdout",
     "output_type": "stream",
     "text": [
      "good work\n",
      "9\n"
     ]
    }
   ],
   "source": [
    "with open('F1.txt','w') as f:\n",
    "    f1=input()\n",
    "    print(f.write(f1))    "
   ]
  },
  {
   "cell_type": "code",
   "execution_count": 12,
   "metadata": {},
   "outputs": [
    {
     "name": "stdout",
     "output_type": "stream",
     "text": [
      "good work\n"
     ]
    }
   ],
   "source": [
    "with open('F1.txt','r') as f:\n",
    "    print(f.readline())"
   ]
  },
  {
   "cell_type": "code",
   "execution_count": 2,
   "metadata": {},
   "outputs": [
    {
     "name": "stdout",
     "output_type": "stream",
     "text": [
      "hii\n",
      "4\n"
     ]
    }
   ],
   "source": [
    "with open('F1.txt','a') as f:\n",
    "    f1=input()\n",
    "    print(f.write(\"\\n\"+f1))    "
   ]
  },
  {
   "cell_type": "code",
   "execution_count": 3,
   "metadata": {},
   "outputs": [
    {
     "name": "stdout",
     "output_type": "stream",
     "text": [
      "['hii\\n', 'hii']\n"
     ]
    }
   ],
   "source": [
    "with open('F1.txt','r') as f:\n",
    "    print(f.readlines())"
   ]
  },
  {
   "cell_type": "code",
   "execution_count": 5,
   "metadata": {},
   "outputs": [
    {
     "name": "stdout",
     "output_type": "stream",
     "text": [
      "h\n"
     ]
    }
   ],
   "source": [
    "with open('F1.txt','r') as f:\n",
    "    f1=f.read()\n",
    "    print(f1[0])"
   ]
  },
  {
   "cell_type": "code",
   "execution_count": 7,
   "metadata": {},
   "outputs": [
    {
     "name": "stdout",
     "output_type": "stream",
     "text": [
      "hii\n",
      "\n"
     ]
    }
   ],
   "source": [
    "with open('F1.txt','r') as f:\n",
    "    f1=f.readlines()\n",
    "    print(f1[0])\n",
    "    f.close()"
   ]
  },
  {
   "cell_type": "code",
   "execution_count": null,
   "metadata": {},
   "outputs": [],
   "source": [
    "# abc 50 60 70\n",
    "# def 80 90 40\n",
    "# ghi 60 40 20\n",
    "\n",
    "# o/p:\n",
    "# abc 180\n",
    "# def 120\n",
    "# ghi 120\n"
   ]
  },
  {
   "cell_type": "code",
   "execution_count": 47,
   "metadata": {},
   "outputs": [
    {
     "name": "stdout",
     "output_type": "stream",
     "text": [
      "3\n",
      "['abc 50 60 70\\n', 'def 80 90 40\\n', 'ghi 60 40 20']\n",
      "abc 180\n",
      "def 210\n",
      "ghi 120\n"
     ]
    }
   ],
   "source": [
    "with open('data.txt','r') as f:\n",
    "    f1=f.readlines()\n",
    "    print(len(f1))\n",
    "    print(f1)\n",
    "    for i in f1:\n",
    "        w=i.split(\" \")\n",
    "       # print(w)\n",
    "        name=w[0]\n",
    "        s=sum(list(map(int,w[1:])))\n",
    "        print(name,s)\n",
    "    f.close()"
   ]
  },
  {
   "cell_type": "code",
   "execution_count": null,
   "metadata": {},
   "outputs": [],
   "source": [
    "task 2:\n",
    "    character count\n",
    "    line count\n",
    "    word count"
   ]
  },
  {
   "cell_type": "code",
   "execution_count": 54,
   "metadata": {},
   "outputs": [
    {
     "name": "stdout",
     "output_type": "stream",
     "text": [
      "abc 50 60 70\n",
      "def 80 90 40\n",
      "ghi 60 40 20\n",
      "character count= 9\n",
      "line count 3\n",
      "word count= 12\n"
     ]
    }
   ],
   "source": [
    "with open('data.txt','r') as f:\n",
    "    f1=f.read()\n",
    "    print(f1)\n",
    "    x=0;\n",
    "    for i in f1:\n",
    "        if i.isalpha():\n",
    "            x+=1\n",
    "    print(\"character count=\",x)\n",
    "    c=0        \n",
    "    for i in f1:\n",
    "        if(i=='\\n'):\n",
    "            c+=1\n",
    "    print(\"line count\",c+1)    \n",
    "    s=0\n",
    "    for i in f1:\n",
    "        if(i==' '):\n",
    "            s+=1\n",
    "    print(\"word count=\",s+c+1)  "
   ]
  },
  {
   "cell_type": "code",
   "execution_count": 65,
   "metadata": {},
   "outputs": [
    {
     "name": "stdout",
     "output_type": "stream",
     "text": [
      "abc 50 60 70\n",
      "def 80 90 40\n",
      "ghi 60 40 20\n",
      "!@#$%^&*()~+_)\n",
      "character count= 9\n",
      "nnumber count= 18\n",
      "special character count= 26\n"
     ]
    }
   ],
   "source": [
    "# special character count\n",
    "with open('data.txt','r') as f:\n",
    "    f1=f.read()\n",
    "    print(f1)\n",
    "    x=0\n",
    "    c=0\n",
    "    n=0\n",
    "    for i in f1:\n",
    "        if i.isalpha():\n",
    "            c+=1\n",
    "        elif i.isdigit():\n",
    "            n+=1\n",
    "        else:\n",
    "            x+=1\n",
    "    print(\"character count=\",c) \n",
    "    print(\"nnumber count=\",n)\n",
    "    print(\"special character count=\",x)"
   ]
  },
  {
   "cell_type": "code",
   "execution_count": 66,
   "metadata": {},
   "outputs": [
    {
     "name": "stdout",
     "output_type": "stream",
     "text": [
      "word count= 13\n"
     ]
    }
   ],
   "source": [
    "# word count\n",
    "with open('data.txt','r') as f:\n",
    "    f1=f.read()\n",
    "    w=f1.split()\n",
    "    print(\"word count=\",len(w)) "
   ]
  },
  {
   "cell_type": "code",
   "execution_count": 67,
   "metadata": {},
   "outputs": [
    {
     "name": "stdout",
     "output_type": "stream",
     "text": [
      "letters count= 53\n"
     ]
    }
   ],
   "source": [
    "# letters count\n",
    "with open('data.txt','r') as f:\n",
    "    f1=f.read()\n",
    "    print(\"letters count=\",len(f1)) "
   ]
  },
  {
   "cell_type": "code",
   "execution_count": 73,
   "metadata": {},
   "outputs": [
    {
     "name": "stdout",
     "output_type": "stream",
     "text": [
      "{'h', 'i', '\\n'}\n",
      "h : 2\n",
      "i : 4\n",
      "\n",
      " : 1\n"
     ]
    }
   ],
   "source": [
    "# total letters in the form of set\n",
    "# o/p:{'h':1,'i':..}\n",
    "f=open(\"F1.txt\",'r')\n",
    "a=f.read()\n",
    "s=set(a)\n",
    "print(s)\n",
    "for i in s:\n",
    "    print(i,\":\",a.count(i))"
   ]
  },
  {
   "cell_type": "code",
   "execution_count": 13,
   "metadata": {},
   "outputs": [
    {
     "name": "stdout",
     "output_type": "stream",
     "text": [
      "{'h': 2, 'i': 4, '\\n': 1}\n"
     ]
    }
   ],
   "source": [
    "f=open(\"F1.txt\",'r')\n",
    "a=f.read()\n",
    "d={}\n",
    "for i in a:\n",
    "    d[i]=a.count(i)\n",
    "print(d)"
   ]
  },
  {
   "cell_type": "code",
   "execution_count": 1,
   "metadata": {},
   "outputs": [
    {
     "name": "stdout",
     "output_type": "stream",
     "text": [
      "James Walker\tBiology\t05/06/2016\t31 Velma Clemons\tBiology\t05/06/2016\t43 Kibo Underwood\tBiology\t05/06/2016\t81 Louis Mcgee\tBiology\t05/06/2016\t11 Phyllis Paul\tBiology\t05/06/2016\t18 Zenaida Decker\tBiology\t05/06/2016\t55 Gillian Tillman\tBiology\t05/06/2016\t38 Constance Boone\tBiology\t05/06/2016\t16 Giselle Lancaster\tBiology\t05/06/2016\t73 Kirsten Mcdowell\tBiology\t05/06/2016\t16\n"
     ]
    },
    {
     "data": {
      "text/plain": [
       "369"
      ]
     },
     "execution_count": 1,
     "metadata": {},
     "output_type": "execute_result"
    }
   ],
   "source": [
    "# create a text file and genarate random marks in dynamically(50 members)\n",
    "f=open(\"studata.txt\",'a')\n",
    "f1=input()\n",
    "f.write(\"\\n\"+f1)"
   ]
  },
  {
   "cell_type": "code",
   "execution_count": 2,
   "metadata": {},
   "outputs": [
    {
     "name": "stdout",
     "output_type": "stream",
     "text": [
      "ram:12\\nsam:34\\njam:18\\nraj:20\\ntej:15\\nfanthu:10\n",
      "James Walker\tBiology\t05/06/2016\t31 Velma Clemons\tBiology\t05/06/2016\t43 Kibo Underwood\tBiology\t05/06/2016\t81 Louis Mcgee\tBiology\t05/06/2016\t11 Phyllis Paul\tBiology\t05/06/2016\t18 Zenaida Decker\tBiology\t05/06/2016\t55 Gillian Tillman\tBiology\t05/06/2016\t38 Constance Boone\tBiology\t05/06/2016\t16 Giselle Lancaster\tBiology\t05/06/2016\t73 Kirsten Mcdowell\tBiology\t05/06/2016\t16\n"
     ]
    }
   ],
   "source": [
    "f=open(\"studata.txt\",'r')\n",
    "print(f.read())"
   ]
  },
  {
   "cell_type": "code",
   "execution_count": 11,
   "metadata": {},
   "outputs": [],
   "source": [
    "# creating file-x\n",
    "from random import randint\n",
    "f=open('stumarks.txt','x')\n",
    "for i in range(1,61):\n",
    "    f=open(\"stumarks.txt\",'a')\n",
    "    r=str(randint(0,100))\n",
    "    f.write(r+\"\\n\")\n",
    "f.close()"
   ]
  },
  {
   "cell_type": "code",
   "execution_count": 12,
   "metadata": {},
   "outputs": [
    {
     "name": "stdout",
     "output_type": "stream",
     "text": [
      "8\n",
      "73\n",
      "100\n",
      "8\n",
      "74\n",
      "4\n",
      "40\n",
      "25\n",
      "62\n",
      "54\n",
      "43\n",
      "90\n",
      "63\n",
      "8\n",
      "48\n",
      "71\n",
      "4\n",
      "37\n",
      "99\n",
      "12\n",
      "39\n",
      "20\n",
      "77\n",
      "0\n",
      "5\n",
      "68\n",
      "36\n",
      "64\n",
      "77\n",
      "45\n",
      "14\n",
      "68\n",
      "37\n",
      "43\n",
      "67\n",
      "22\n",
      "52\n",
      "75\n",
      "57\n",
      "34\n",
      "10\n",
      "80\n",
      "21\n",
      "26\n",
      "49\n",
      "17\n",
      "18\n",
      "73\n",
      "71\n",
      "89\n",
      "53\n",
      "84\n",
      "56\n",
      "16\n",
      "79\n",
      "29\n",
      "75\n",
      "79\n",
      "20\n",
      "82\n",
      "\n"
     ]
    }
   ],
   "source": [
    "f=open(\"stumarks.txt\",'r')\n",
    "print(f.read())"
   ]
  },
  {
   "cell_type": "code",
   "execution_count": null,
   "metadata": {},
   "outputs": [],
   "source": []
  }
 ],
 "metadata": {
  "kernelspec": {
   "display_name": "Python 3",
   "language": "python",
   "name": "python3"
  },
  "language_info": {
   "codemirror_mode": {
    "name": "ipython",
    "version": 3
   },
   "file_extension": ".py",
   "mimetype": "text/x-python",
   "name": "python",
   "nbconvert_exporter": "python",
   "pygments_lexer": "ipython3",
   "version": "3.7.4"
  }
 },
 "nbformat": 4,
 "nbformat_minor": 2
}

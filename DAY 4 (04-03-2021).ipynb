{
 "cells": [
  {
   "cell_type": "code",
   "execution_count": 3,
   "metadata": {},
   "outputs": [
    {
     "name": "stdout",
     "output_type": "stream",
     "text": [
      "enter the number:57\n",
      "False\n"
     ]
    }
   ],
   "source": [
    "# program for given number is even or not\n",
    "# o/p:true/false\n",
    "n=int(input(\"enter the number:\"))\n",
    "if(n%2==0):\n",
    "    print(True)\n",
    "else:\n",
    "    print(False)"
   ]
  },
  {
   "cell_type": "code",
   "execution_count": 36,
   "metadata": {},
   "outputs": [
    {
     "name": "stdout",
     "output_type": "stream",
     "text": [
      "3 3.4285714285714284 3\n"
     ]
    }
   ],
   "source": [
    "# 3 types of divisions:\n",
    "## integer (//)(COEFFICENT IN integer format)\n",
    "A=24//7\n",
    "## float(/) (COEFFICIENT IN DECIMAL POINTS)\n",
    "B=24/7\n",
    "## modulus (%)(REMINDER)\n",
    "C=24%7\n",
    "print(A,B,C)"
   ]
  },
  {
   "cell_type": "markdown",
   "metadata": {},
   "source": [
    "# Objectives\n",
    "+ operators in python\n",
    "+ keywords in python"
   ]
  },
  {
   "cell_type": "markdown",
   "metadata": {},
   "source": [
    "##  operators in python\n",
    "+ arithematic operators\n",
    "+ assignment operators\n",
    "+ comparision operators\n",
    "+ logical operators\n",
    "+ identity operators\n",
    "+ membership operators\n",
    "+ bitwise operators"
   ]
  },
  {
   "cell_type": "markdown",
   "metadata": {},
   "source": [
    "## Arithematic operators\n",
    "+ addition (+)\n",
    "+ sustraction(-)\n",
    "+ multiplication (*)\n",
    "+ division (/)\n",
    "+ modulus (%)\n",
    "+ exponetiation(**)\n",
    "+ floor division(//)"
   ]
  },
  {
   "cell_type": "markdown",
   "metadata": {},
   "source": [
    "## Comparision Operators \n",
    "*used to compare two values*\n",
    "+ equal (==)\n",
    "+ not equal (!=)\n",
    "+ grater than (>)\n",
    "+ lesser than (<)\n",
    "+ grater than or equal to(>=)\n",
    "+ lesser than or equal to(<=)"
   ]
  },
  {
   "cell_type": "markdown",
   "metadata": {},
   "source": [
    "## Assignment Operators\n",
    "        assignment operators used to assign values to variables\n",
    "  + = (assign)\n",
    "      * ex : x=10\n",
    "  + += (addition assignment operator )\n",
    "      * ex :x+=5 =>x=x+5\n",
    "  + -=\n",
    "     * ex :x-=5 =>x=x-5\n",
    "  + *=\n",
    "     * ex :x*=3 =>x=x*3\n",
    "  + /=\n",
    "     * ex :x/=5 =>x=x/5 \n",
    "  + %=\n",
    "     * ex :x%=5 =>x=x%5\n",
    "  + //=\n",
    "     * ex :x//=5 =>x=x//5\n",
    "  + **=\n",
    "     * ex :x ** =5 =>x=x ** 5\n"
   ]
  },
  {
   "cell_type": "markdown",
   "metadata": {},
   "source": [
    "## Logical Operators\n",
    "+ logical operators are used to combine the conditional statements\n",
    "* and :\n",
    "   * returns True if both statements are True"
   ]
  },
  {
   "cell_type": "code",
   "execution_count": 7,
   "metadata": {},
   "outputs": [
    {
     "data": {
      "text/plain": [
       "True"
      ]
     },
     "execution_count": 7,
     "metadata": {},
     "output_type": "execute_result"
    }
   ],
   "source": [
    "x=0\n",
    "x>-1 and x<1"
   ]
  },
  {
   "cell_type": "markdown",
   "metadata": {},
   "source": [
    "* or :\n",
    "  * returs True atlest one statemnt is True in given"
   ]
  },
  {
   "cell_type": "code",
   "execution_count": 9,
   "metadata": {},
   "outputs": [
    {
     "data": {
      "text/plain": [
       "True"
      ]
     },
     "execution_count": 9,
     "metadata": {},
     "output_type": "execute_result"
    }
   ],
   "source": [
    "x=0\n",
    "x<-1 or x<1"
   ]
  },
  {
   "cell_type": "markdown",
   "metadata": {},
   "source": [
    "* not :\n",
    "    * return False if the given is True and vice-versa (reverse the result)"
   ]
  },
  {
   "cell_type": "code",
   "execution_count": 11,
   "metadata": {},
   "outputs": [
    {
     "data": {
      "text/plain": [
       "False"
      ]
     },
     "execution_count": 11,
     "metadata": {},
     "output_type": "execute_result"
    }
   ],
   "source": [
    "x=0\n",
    "not(x>-1 or x<1) ## x>-1 or x<1 is True"
   ]
  },
  {
   "cell_type": "markdown",
   "metadata": {},
   "source": [
    "# Identity Operators \n",
    "   used to compare the objects ,(generally) not if they are equal,but if they are actually same object \n",
    "   with the same memory location\n",
    " + is\n",
    "   * returns True if both variables are the same objects\n",
    "   * if x is y\n",
    " + isnot\n",
    "   * returns True if both variables are not the same objects\n",
    "   * if x isnot y\n",
    "   "
   ]
  },
  {
   "cell_type": "markdown",
   "metadata": {},
   "source": [
    "## Membership Operators\n",
    "+ these are used to check whether the element is present in sequence or not\n",
    "\n",
    "+ in \n",
    "   * returns True if the element is present\n",
    "   + x in y\n",
    "+ not in\n",
    "   * returns True if the element is not present\n",
    "   + x not in y\n",
    "  "
   ]
  },
  {
   "cell_type": "markdown",
   "metadata": {},
   "source": [
    "## Bitwise Operator\n",
    "\n",
    "* these are used to compare (binary )numbers (in bits)\n",
    "* &\n",
    "  * sets each bit to 1 if both bits are 1\n",
    "* |\n",
    "  * sets each bit to 1 if one of two bits is 1\n",
    "* ^\n",
    "  * sets each bit to 1 if only one of two bits is 1\n",
    "* ~\n",
    "  * inverse all the bits\n",
    "* <<\n",
    "  * shift left by pushing zeros in form the right and left the leftmost bits fall off\n",
    "* >>(right shift)\n",
    "  * shift right by pushing copies of the leftmost bit in form the left ,and let the rightmost bits fall off"
   ]
  },
  {
   "cell_type": "code",
   "execution_count": 25,
   "metadata": {},
   "outputs": [
    {
     "data": {
      "text/plain": [
       "2"
      ]
     },
     "execution_count": 25,
     "metadata": {},
     "output_type": "execute_result"
    }
   ],
   "source": [
    "3>>2 # 3>>1 =>00000011 => 0000 (lsb 2 bits removed and msb is 2 0's added"
   ]
  },
  {
   "cell_type": "code",
   "execution_count": 26,
   "metadata": {},
   "outputs": [
    {
     "data": {
      "text/plain": [
       "12"
      ]
     },
     "execution_count": 26,
     "metadata": {},
     "output_type": "execute_result"
    }
   ],
   "source": [
    "3<<2 # 3<<1 =>000000011=>(msb 2bit removed and lsb 2 0's added) =>1100"
   ]
  },
  {
   "cell_type": "code",
   "execution_count": 32,
   "metadata": {},
   "outputs": [
    {
     "data": {
      "text/plain": [
       "0"
      ]
     },
     "execution_count": 32,
     "metadata": {},
     "output_type": "execute_result"
    }
   ],
   "source": [
    "12>>5 # 00001100=>0"
   ]
  },
  {
   "cell_type": "code",
   "execution_count": 35,
   "metadata": {},
   "outputs": [
    {
     "data": {
      "text/plain": [
       "384"
      ]
     },
     "execution_count": 35,
     "metadata": {},
     "output_type": "execute_result"
    }
   ],
   "source": [
    "12<<5 "
   ]
  },
  {
   "cell_type": "markdown",
   "metadata": {},
   "source": [
    "# Python Keywords"
   ]
  },
  {
   "cell_type": "code",
   "execution_count": 2,
   "metadata": {},
   "outputs": [
    {
     "data": {
      "text/plain": [
       "['False',\n",
       " 'None',\n",
       " 'True',\n",
       " 'and',\n",
       " 'as',\n",
       " 'assert',\n",
       " 'async',\n",
       " 'await',\n",
       " 'break',\n",
       " 'class',\n",
       " 'continue',\n",
       " 'def',\n",
       " 'del',\n",
       " 'elif',\n",
       " 'else',\n",
       " 'except',\n",
       " 'finally',\n",
       " 'for',\n",
       " 'from',\n",
       " 'global',\n",
       " 'if',\n",
       " 'import',\n",
       " 'in',\n",
       " 'is',\n",
       " 'lambda',\n",
       " 'nonlocal',\n",
       " 'not',\n",
       " 'or',\n",
       " 'pass',\n",
       " 'raise',\n",
       " 'return',\n",
       " 'try',\n",
       " 'while',\n",
       " 'with',\n",
       " 'yield']"
      ]
     },
     "execution_count": 2,
     "metadata": {},
     "output_type": "execute_result"
    }
   ],
   "source": [
    "import keyword # import is also a keyword in python\n",
    "keyword.kwlist"
   ]
  },
  {
   "cell_type": "markdown",
   "metadata": {},
   "source": [
    "## usage and meaning:;\n",
    "* 'False'\n",
    "* 'None',:null value\n",
    "* 'True',\n",
    "* 'and',\n",
    "* 'as',:create alias\n",
    "* 'assert': debugging\n",
    "* 'async': time stamping\n",
    "* 'await':how much time to wait for breaking(waiting some time) after executed the program\n",
    "* 'break': break the loops or othes\n",
    "* 'class' : create class\n",
    "* 'continue': skipping after continue the stmt\n",
    "* 'def',: create a function\n",
    "* 'del',:delete an object\n",
    "* 'elif',\n",
    "* 'else',\n",
    "* 'except': used in exception handling\n",
    "* 'finally': even exception in program the required stmt executed\n",
    "* 'for',\n",
    "* 'from': importing from one package to other\n",
    "* 'global': used that data entire program\n",
    "* 'if',\n",
    "* 'import':import a module\n",
    "* 'in': data contains or not\n",
    "* 'is': checking \n",
    "* 'lambda': small or an anonymous function\n",
    "* 'nonlocal': not local\n",
    "* 'not',\n",
    "* 'or',\n",
    "* 'pass': becoming a stmt null(nothing will do\n",
    "* 'raise': raise an exception\n",
    "* 'return':\n",
    "* 'try': in exceptional handling\n",
    "* 'while',\n",
    "* 'with': file operation and in exceptional handling\n",
    "* 'yield': returns a genarator"
   ]
  },
  {
   "cell_type": "code",
   "execution_count": 22,
   "metadata": {},
   "outputs": [
    {
     "name": "stdout",
     "output_type": "stream",
     "text": [
      "enter a year:2012\n",
      "True\n"
     ]
    }
   ],
   "source": [
    "## write a program to check whether a given year is leap year or not\n",
    "## o/p:True or False\n",
    "## dynamic input\n",
    "a=int(input(\"enter a year:\"))\n",
    "if(a%4==0 )or( a%400==0 )or(a%100==0):\n",
    "    print(True)\n",
    "else:\n",
    "    print(False)"
   ]
  },
  {
   "cell_type": "code",
   "execution_count": null,
   "metadata": {},
   "outputs": [],
   "source": []
  }
 ],
 "metadata": {
  "kernelspec": {
   "display_name": "Python 3",
   "language": "python",
   "name": "python3"
  },
  "language_info": {
   "codemirror_mode": {
    "name": "ipython",
    "version": 3
   },
   "file_extension": ".py",
   "mimetype": "text/x-python",
   "name": "python",
   "nbconvert_exporter": "python",
   "pygments_lexer": "ipython3",
   "version": "3.7.4"
  }
 },
 "nbformat": 4,
 "nbformat_minor": 2
}
